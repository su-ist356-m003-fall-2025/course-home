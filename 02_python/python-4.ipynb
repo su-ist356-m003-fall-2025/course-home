{
 "cells": [
  {
   "cell_type": "markdown",
   "id": "055158dc-2ed2-45bc-be1a-269ebaf5a9c7",
   "metadata": {},
   "source": [
    "# Python 1-4\n",
    "\n",
    "Modules, import, pip, testing"
   ]
  },
  {
   "cell_type": "markdown",
   "id": "2e61f4be-925b-481a-8746-bea092168737",
   "metadata": {},
   "source": [
    "# Modules and Packages\n",
    "\n",
    "- A **Module** is a file containing Python code. \n",
    "- The Code in the module can be included in your code using the `import` command\n",
    "- A collection of modules bundled for re-distribution is known as a **Package**"
   ]
  },
  {
   "cell_type": "markdown",
   "id": "6fc6c614-7385-486a-86d1-464cb2957d96",
   "metadata": {},
   "source": [
    "## Built in Modules vs. External\n",
    "\n",
    "- The Python language has several modules which are included with the base language: **Python Standard Library** https://docs.python.org/3/library/ \n",
    "- In addition you can import other libraries found on the Internet. \n",
    "- The Python Package Index is a website which allows you to search for other code avaialbe for use. https://pypi.org/\n",
    "- Once you know which package you want, **you can install it with the `pip` command from the terminal.**\n",
    "- example: `pip install <name-of-package>`\n"
   ]
  },
  {
   "cell_type": "markdown",
   "id": "dd0aee7f-eceb-4b67-abcd-ab1de5fc552d",
   "metadata": {
    "tags": []
   },
   "source": [
    "## Requirements.txt\n",
    "\n",
    "- `requirements.txt` is a file which stores the names of all the packages a project uses\n",
    "- adding them to the file is a replacement for installing each of them manually\n",
    "- to install the packages: `pip install -r requirements.txt`"
   ]
  },
  {
   "cell_type": "markdown",
   "id": "cbd5788b-401e-46c9-82aa-27f81ef8de05",
   "metadata": {},
   "source": [
    "## Importing Modules \n",
    "\n",
    "Code in the module can be included in your code using the `import` command.\n",
    "\n",
    "- `import foo` imports all code from module `foo`\n",
    "- `from foo import bar,baz` only imports the `bar` and `baz` functions from module `foo`\n",
    "- `import foo as f` imports all code from module `foo` and renames it to `f` (usually to avoid naming conflicts)"
   ]
  },
  {
   "cell_type": "markdown",
   "id": "f7c70428-3b05-4d1c-9ec4-313b68827cd7",
   "metadata": {},
   "source": [
    "## Whats in the module?\n",
    "\n",
    "- Use the `dir(<module>)` to list the functions in the module\n",
    "- Use `help(module.function)` to get the docstring for a function in a module."
   ]
  },
  {
   "cell_type": "code",
   "execution_count": 4,
   "id": "400b091b-811c-4437-85a3-b0fb4790af41",
   "metadata": {
    "tags": []
   },
   "outputs": [],
   "source": [
    "# Examples\n",
    "import math"
   ]
  },
  {
   "cell_type": "code",
   "execution_count": 5,
   "id": "44d96cde-cd7a-4853-a615-d5ebc240829c",
   "metadata": {
    "tags": []
   },
   "outputs": [
    {
     "data": {
      "text/plain": [
       "['__doc__',\n",
       " '__file__',\n",
       " '__loader__',\n",
       " '__name__',\n",
       " '__package__',\n",
       " '__spec__',\n",
       " 'acos',\n",
       " 'acosh',\n",
       " 'asin',\n",
       " 'asinh',\n",
       " 'atan',\n",
       " 'atan2',\n",
       " 'atanh',\n",
       " 'cbrt',\n",
       " 'ceil',\n",
       " 'comb',\n",
       " 'copysign',\n",
       " 'cos',\n",
       " 'cosh',\n",
       " 'degrees',\n",
       " 'dist',\n",
       " 'e',\n",
       " 'erf',\n",
       " 'erfc',\n",
       " 'exp',\n",
       " 'exp2',\n",
       " 'expm1',\n",
       " 'fabs',\n",
       " 'factorial',\n",
       " 'floor',\n",
       " 'fmod',\n",
       " 'frexp',\n",
       " 'fsum',\n",
       " 'gamma',\n",
       " 'gcd',\n",
       " 'hypot',\n",
       " 'inf',\n",
       " 'isclose',\n",
       " 'isfinite',\n",
       " 'isinf',\n",
       " 'isnan',\n",
       " 'isqrt',\n",
       " 'lcm',\n",
       " 'ldexp',\n",
       " 'lgamma',\n",
       " 'log',\n",
       " 'log10',\n",
       " 'log1p',\n",
       " 'log2',\n",
       " 'modf',\n",
       " 'nan',\n",
       " 'nextafter',\n",
       " 'perm',\n",
       " 'pi',\n",
       " 'pow',\n",
       " 'prod',\n",
       " 'radians',\n",
       " 'remainder',\n",
       " 'sin',\n",
       " 'sinh',\n",
       " 'sqrt',\n",
       " 'tan',\n",
       " 'tanh',\n",
       " 'tau',\n",
       " 'trunc',\n",
       " 'ulp']"
      ]
     },
     "execution_count": 5,
     "metadata": {},
     "output_type": "execute_result"
    }
   ],
   "source": [
    "# get the functions\n",
    "dir(math)"
   ]
  },
  {
   "cell_type": "code",
   "execution_count": 6,
   "id": "44f78e9b-a92e-42bf-9562-7da4b05ac7ae",
   "metadata": {
    "tags": []
   },
   "outputs": [
    {
     "name": "stdout",
     "output_type": "stream",
     "text": [
      "Help on built-in function pow in module math:\n",
      "\n",
      "pow(x, y, /)\n",
      "    Return x**y (x to the power of y).\n",
      "\n"
     ]
    }
   ],
   "source": [
    "help(math.pow)"
   ]
  },
  {
   "cell_type": "code",
   "execution_count": 9,
   "id": "a94b4b53-f52e-4fa5-a3f0-3a599644e85f",
   "metadata": {
    "tags": []
   },
   "outputs": [
    {
     "data": {
      "text/plain": [
       "32.0"
      ]
     },
     "execution_count": 9,
     "metadata": {},
     "output_type": "execute_result"
    }
   ],
   "source": [
    "math.pow(2,5) # 2*2*2*2*2"
   ]
  },
  {
   "cell_type": "markdown",
   "id": "cf2e5667-3c64-4e28-b3a2-b2ca59c60fd6",
   "metadata": {},
   "source": [
    "## Challenge 1-4-1\n",
    "\n",
    "use the `datetime` module to:\n",
    "\n",
    "parse a string like this \"Month/Day/Year\" 1/15/2025 into a datetime\n",
    "then print it like this: YYYY-MM-DD\n",
    "\n",
    "For example in the current date is January 15, 2025 the output should be 2025-01-15\n",
    "\n",
    "You will need to read through the module with `dir()` and `help()` or read the python docs to determine which functions to use."
   ]
  },
  {
   "cell_type": "markdown",
   "id": "0756beec-1c56-49c5-b76b-0f456f466842",
   "metadata": {},
   "source": [
    "## Challenge 1-4-2\n",
    "\n",
    "Let's make the code in 1-4-1 more resusable \n",
    "\n",
    "re-write the date parse into a function `parsedate_mdy(text: str) -> datetime:`   \n",
    "re-write the date format into a function `formatdate_ymd(date: datetime) -> str:`  \n",
    "re-write the main program to use both functions. input -> parsedate -> formatdate -> output"
   ]
  },
  {
   "cell_type": "markdown",
   "id": "c30c9fae-1dae-4037-92c6-d16c874af5ba",
   "metadata": {},
   "source": [
    "## Challenge 1-4-3\n",
    "\n",
    "Let's make the code in 1-4-2 more resusable!!! \n",
    "\n",
    "move your functions into a module names `dateutils.py`\n",
    "\n",
    "import your functions from `dateutils.py` into `1-4-3.py`"
   ]
  },
  {
   "cell_type": "markdown",
   "id": "b3a53c18-3891-4515-874d-b29f012b48b1",
   "metadata": {},
   "source": [
    "# Testing Your Code\n",
    "\n",
    "- For every function you write you should get in the habit of writing code to test the function\n",
    "- We want this to be automated so that we can easily determine if a change to our code has affected other code\n",
    "- This is especially useful with large projects"
   ]
  },
  {
   "cell_type": "markdown",
   "id": "31b50544-fa0a-472d-8670-4e5effcb679f",
   "metadata": {},
   "source": [
    "## Assert\n",
    "\n",
    "`assert` is a python command which throws an exception if the expression asserted is false\n",
    "\n",
    "When an `assert` fails, it raises an `AssertionError` exception  which alerts us that something did not go as planned."
   ]
  },
  {
   "cell_type": "code",
   "execution_count": 10,
   "id": "258b1421-4910-4ea0-bab0-53c03f78094a",
   "metadata": {
    "tags": []
   },
   "outputs": [],
   "source": [
    "assert 1 + 1 == 2   # This is true, no worries"
   ]
  },
  {
   "cell_type": "code",
   "execution_count": 11,
   "id": "db7ea261-fee9-4a1e-8ca4-77be8735f4a1",
   "metadata": {
    "tags": []
   },
   "outputs": [
    {
     "ename": "AssertionError",
     "evalue": "",
     "output_type": "error",
     "traceback": [
      "\u001b[0;31m---------------------------------------------------------------------------\u001b[0m",
      "\u001b[0;31mAssertionError\u001b[0m                            Traceback (most recent call last)",
      "Cell \u001b[0;32mIn[11], line 1\u001b[0m\n\u001b[0;32m----> 1\u001b[0m \u001b[38;5;28;01massert\u001b[39;00m \u001b[38;5;241m2\u001b[39m \u001b[38;5;241m+\u001b[39m \u001b[38;5;241m2\u001b[39m \u001b[38;5;241m==\u001b[39m \u001b[38;5;241m5\u001b[39m \u001b[38;5;66;03m# False AssertionError\u001b[39;00m\n",
      "\u001b[0;31mAssertionError\u001b[0m: "
     ]
    }
   ],
   "source": [
    "assert 2 + 2 == 5 # False AssertionError"
   ]
  },
  {
   "cell_type": "markdown",
   "id": "bbbf7e1a-34b6-4701-819a-191f0e8e0794",
   "metadata": {},
   "source": [
    "## Pytest\n",
    "\n",
    "`Pytest` is testing framework for Python. \n",
    "\n",
    "https://docs.pytest.org/en/stable/index.html\n",
    "\n",
    "Pytest can automatically discover tests in your code. Any function that contains an `assert` will be executed when you invoke pytest.\n",
    "\n",
    "You can invoke it at the terminal like this:\n",
    "\n",
    "`python -m pytest <filetotest>`\n",
    "\n",
    "The VS Code test plyugin should discover the tests"
   ]
  },
  {
   "cell_type": "markdown",
   "id": "b1a80d2f-2f83-4678-abdd-d7e190898781",
   "metadata": {},
   "source": [
    "## Challenge 1-4-4\n",
    "\n",
    "Automated testing for our module in 1-4-3\n",
    "\n",
    "write two functions `test_parsedate_mdy()` and `test_formatdate_ymd()`in `dateutils.py` to test each of the two functions. Write two asserts for each function\n",
    "\n",
    "Run pytest or VS Code test to make sure your tests pass!"
   ]
  },
  {
   "cell_type": "code",
   "execution_count": null,
   "id": "6bd39b11-2321-4010-9130-528caf0f96ad",
   "metadata": {},
   "outputs": [],
   "source": []
  }
 ],
 "metadata": {
  "kernelspec": {
   "display_name": "Python 3 (ipykernel)",
   "language": "python",
   "name": "python3"
  },
  "language_info": {
   "codemirror_mode": {
    "name": "ipython",
    "version": 3
   },
   "file_extension": ".py",
   "mimetype": "text/x-python",
   "name": "python",
   "nbconvert_exporter": "python",
   "pygments_lexer": "ipython3",
   "version": "3.11.7"
  }
 },
 "nbformat": 4,
 "nbformat_minor": 5
}
