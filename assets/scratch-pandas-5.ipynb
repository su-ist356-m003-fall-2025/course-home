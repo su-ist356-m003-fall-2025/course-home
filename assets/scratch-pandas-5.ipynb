{
 "cells": [
  {
   "cell_type": "markdown",
   "id": "397ecd13",
   "metadata": {},
   "source": [
    "# Scratch notebook for \"Grouping data and creating pivot tables with Pandas\" tutorial\n",
    "\n",
    "Use this scratch notebook for following along with the tutorial.\n",
    "\n",
    "For this tutorial you will need the following:"
   ]
  },
  {
   "cell_type": "code",
   "execution_count": null,
   "id": "ee12314f",
   "metadata": {},
   "outputs": [],
   "source": [
    "import pandas as pd\n",
    "\n",
    "exams_data = 'https://raw.githubusercontent.com/mafudge/datasets/refs/heads/master/exam-scores/exam-scores.csv'"
   ]
  }
 ],
 "metadata": {
  "kernelspec": {
   "display_name": "ist356",
   "language": "python",
   "name": "python3"
  },
  "language_info": {
   "codemirror_mode": {
    "name": "ipython",
    "version": 3
   },
   "file_extension": ".py",
   "mimetype": "text/x-python",
   "name": "python",
   "nbconvert_exporter": "python",
   "pygments_lexer": "ipython3",
   "version": "3.11.13"
  }
 },
 "nbformat": 4,
 "nbformat_minor": 5
}
