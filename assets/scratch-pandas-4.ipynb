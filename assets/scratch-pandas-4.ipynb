{
 "cells": [
  {
   "cell_type": "markdown",
   "id": "397ecd13",
   "metadata": {},
   "source": [
    "# Scratch notebook for \"Basic Datacleaning with Pandas\" tutorial\n",
    "\n",
    "Use this scratch notebook for following along with the tutorial.\n",
    "\n",
    "For this tutorial you will need the following:"
   ]
  },
  {
   "cell_type": "code",
   "execution_count": 1,
   "id": "ee12314f",
   "metadata": {},
   "outputs": [],
   "source": [
    "import pandas as pd\n",
    "\n",
    "checks_data = 'https://raw.githubusercontent.com/mafudge/datasets/refs/heads/master/dining/check-data.csv'"
   ]
  },
  {
   "cell_type": "code",
   "execution_count": null,
   "id": "e13ac191",
   "metadata": {},
   "outputs": [],
   "source": []
  }
 ],
 "metadata": {
  "kernelspec": {
   "display_name": "ist356",
   "language": "python",
   "name": "python3"
  },
  "language_info": {
   "codemirror_mode": {
    "name": "ipython",
    "version": 3
   },
   "file_extension": ".py",
   "mimetype": "text/x-python",
   "name": "python",
   "nbconvert_exporter": "python",
   "pygments_lexer": "ipython3",
   "version": "3.11.13"
  }
 },
 "nbformat": 4,
 "nbformat_minor": 5
}
